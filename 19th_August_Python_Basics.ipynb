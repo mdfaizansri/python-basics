{
 "cells": [
  {
   "cell_type": "markdown",
   "id": "7a6cf860-8bad-48e1-8b27-0e6468cdb1fe",
   "metadata": {},
   "source": [
    "TOPIC: PYTHON BASICS VARIABLE"
   ]
  },
  {
   "cell_type": "markdown",
   "id": "045f4fe3-cdd0-49f9-8374-40737ae4c523",
   "metadata": {},
   "source": [
    "Question 1"
   ]
  },
  {
   "cell_type": "code",
   "execution_count": 1,
   "id": "599499eb-439c-461a-90d0-861eaa3911e4",
   "metadata": {},
   "outputs": [],
   "source": [
    "x = 24\n",
    "y = 88 # Declaring variable x and y."
   ]
  },
  {
   "cell_type": "code",
   "execution_count": 2,
   "id": "32921fa0-0b0d-482a-b830-e8a436cfeafe",
   "metadata": {},
   "outputs": [],
   "source": [
    "x , y= y , x  #swapping values of the variables."
   ]
  },
  {
   "cell_type": "code",
   "execution_count": 3,
   "id": "a41373c3-219c-4254-b74a-8538aec543a8",
   "metadata": {},
   "outputs": [
    {
     "data": {
      "text/plain": [
       "(88, 24)"
      ]
     },
     "execution_count": 3,
     "metadata": {},
     "output_type": "execute_result"
    }
   ],
   "source": [
    "x , y  #Displaying swapped variable"
   ]
  },
  {
   "cell_type": "markdown",
   "id": "1543072e-1691-4d02-8587-10f1291130d6",
   "metadata": {},
   "source": [
    "Question 2"
   ]
  },
  {
   "cell_type": "code",
   "execution_count": 14,
   "id": "fd91af89-af64-48f5-af77-bae953016735",
   "metadata": {},
   "outputs": [
    {
     "name": "stdin",
     "output_type": "stream",
     "text": [
      "Enter The Length :  3\n",
      "Enter The Width :  5\n"
     ]
    }
   ],
   "source": [
    "Length = int(input(\"Enter The Length : \"))\n",
    "Width = int(input(\"Enter The Width : \"))  # Taking values as an input"
   ]
  },
  {
   "cell_type": "code",
   "execution_count": 15,
   "id": "85917493-9cc5-4c11-afb9-077c4bf42d73",
   "metadata": {},
   "outputs": [],
   "source": [
    "area = Length*Width # Calculating area"
   ]
  },
  {
   "cell_type": "code",
   "execution_count": 16,
   "id": "30e17ad2-5123-4a8a-99dc-37b330b1c739",
   "metadata": {},
   "outputs": [
    {
     "data": {
      "text/plain": [
       "15"
      ]
     },
     "execution_count": 16,
     "metadata": {},
     "output_type": "execute_result"
    }
   ],
   "source": [
    "area # Displaying area "
   ]
  },
  {
   "cell_type": "markdown",
   "id": "058b0e9a-885f-42b3-aa70-66199f09f5e1",
   "metadata": {},
   "source": [
    "Question 3 "
   ]
  },
  {
   "cell_type": "code",
   "execution_count": 17,
   "id": "350b0ac8-8a76-474a-835a-54bacdc1253c",
   "metadata": {},
   "outputs": [
    {
     "name": "stdin",
     "output_type": "stream",
     "text": [
      "Enter The temprature in celsius :  44\n"
     ]
    }
   ],
   "source": [
    "celsius = float(input(\"Enter The temprature in celsius : \"))  # Taking values as an input"
   ]
  },
  {
   "cell_type": "code",
   "execution_count": 18,
   "id": "3bc3dd1d-88aa-4781-af60-37c1bbb31730",
   "metadata": {},
   "outputs": [],
   "source": [
    "farenheit = (celsius * 9/5) + 32  #Calculating farenheit"
   ]
  },
  {
   "cell_type": "code",
   "execution_count": 19,
   "id": "f5636f57-0283-45ec-b0be-936effb3d83d",
   "metadata": {},
   "outputs": [
    {
     "data": {
      "text/plain": [
       "111.2"
      ]
     },
     "execution_count": 19,
     "metadata": {},
     "output_type": "execute_result"
    }
   ],
   "source": [
    "farenheit   # Displaying farenheit"
   ]
  },
  {
   "cell_type": "markdown",
   "id": "f798f060-4283-4d00-b41c-6bd1b8b5240f",
   "metadata": {},
   "source": [
    "TOPIC: STRING BASED QUESTIONS"
   ]
  },
  {
   "cell_type": "markdown",
   "id": "6afa6470-1b11-42f2-9880-9b6a7e187250",
   "metadata": {},
   "source": [
    "Question 1"
   ]
  },
  {
   "cell_type": "code",
   "execution_count": 20,
   "id": "460e9721-b7f1-4e2d-affa-2c5695b8334a",
   "metadata": {},
   "outputs": [
    {
     "name": "stdin",
     "output_type": "stream",
     "text": [
      "enter the string :  faiz\n"
     ]
    }
   ],
   "source": [
    "abc = str(input(\"enter the string : \")) # taking string as an input."
   ]
  },
  {
   "cell_type": "code",
   "execution_count": 21,
   "id": "0c7fb287-ffd0-430d-9214-400d3073e7e4",
   "metadata": {},
   "outputs": [
    {
     "name": "stdout",
     "output_type": "stream",
     "text": [
      "4\n"
     ]
    }
   ],
   "source": [
    "print(len(abc)) # calculating length using the function len() "
   ]
  },
  {
   "cell_type": "markdown",
   "id": "1d3e7502-cc86-4600-bcb5-45487d47354c",
   "metadata": {},
   "source": [
    "Question 2 "
   ]
  },
  {
   "cell_type": "code",
   "execution_count": 30,
   "id": "2b5e9e0c-ec17-4471-9ad0-b4334bf16714",
   "metadata": {},
   "outputs": [
    {
     "name": "stdin",
     "output_type": "stream",
     "text": [
      "Enter a sentence:  faiz\n"
     ]
    }
   ],
   "source": [
    "a = input(\"Enter a sentence: \").lower()\n",
    "# lower() method to covert sentence in lower case."
   ]
  },
  {
   "cell_type": "code",
   "execution_count": null,
   "id": "85941782-d4e8-45aa-bc11-ca54c0312584",
   "metadata": {},
   "outputs": [],
   "source": [
    "vowels = a.count('a') + a.count('e') + a.count('i') + a.count('o') + a.count('u')\n",
    "# .count() method to count a character"
   ]
  },
  {
   "cell_type": "code",
   "execution_count": null,
   "id": "91db935f-6cc0-40c6-a883-c93b6b8c26a1",
   "metadata": {},
   "outputs": [],
   "source": [
    "print(\"Number of vowels in the sentence:\", vowels) #printing"
   ]
  },
  {
   "cell_type": "markdown",
   "id": "c21dafbd-2335-4911-99c6-097f25872bb8",
   "metadata": {},
   "source": [
    "Question 3"
   ]
  },
  {
   "cell_type": "code",
   "execution_count": 22,
   "id": "64c8ccdf-d9c1-4ddc-9394-46d7617e947b",
   "metadata": {},
   "outputs": [],
   "source": [
    "abcd = \"Pythonbasics\" # Declaring string"
   ]
  },
  {
   "cell_type": "code",
   "execution_count": 34,
   "id": "cbddb972-43cb-4a2a-a914-d354901131de",
   "metadata": {},
   "outputs": [
    {
     "data": {
      "text/plain": [
       "'scisabnohtyP'"
      ]
     },
     "execution_count": 34,
     "metadata": {},
     "output_type": "execute_result"
    }
   ],
   "source": [
    "abcd[::-1]  # Slicing and reversing string"
   ]
  },
  {
   "cell_type": "markdown",
   "id": "17672a34-9cd3-462f-b31d-4f17dbffedd8",
   "metadata": {},
   "source": [
    "Question 4"
   ]
  },
  {
   "cell_type": "code",
   "execution_count": 32,
   "id": "982b067e-85a5-4a81-b117-c1852d7b1aa4",
   "metadata": {},
   "outputs": [
    {
     "name": "stdin",
     "output_type": "stream",
     "text": [
      "Enter a string:  faiz\n"
     ]
    }
   ],
   "source": [
    "input = input(\"Enter a string: \")  # Declaring string\n"
   ]
  },
  {
   "cell_type": "code",
   "execution_count": 33,
   "id": "492bd183-78f7-4802-baff-f0648248f1f4",
   "metadata": {},
   "outputs": [
    {
     "name": "stdout",
     "output_type": "stream",
     "text": [
      "The string is not a palindrome.\n"
     ]
    }
   ],
   "source": [
    "print([\"The string is not a palindrome.\", \"The string is a palindrome.\"][input == input[::-1]])\n",
    "# input[::-1] reverses the string , input == input[::-1] compares with the original"
   ]
  },
  {
   "cell_type": "markdown",
   "id": "f0393f96-bdae-4d52-80b4-ce78e5fee19a",
   "metadata": {},
   "source": [
    "Question 5"
   ]
  },
  {
   "cell_type": "code",
   "execution_count": 25,
   "id": "1af88b1f-f6cf-4a46-9f57-a2e712da084a",
   "metadata": {},
   "outputs": [
    {
     "name": "stdin",
     "output_type": "stream",
     "text": [
      "enter the string :  hello and welcome to assignment no 1\n"
     ]
    }
   ],
   "source": [
    "string1 = str(input(\"enter the string : \"))  #taking string as an input."
   ]
  },
  {
   "cell_type": "code",
   "execution_count": 26,
   "id": "7b613478-664c-41ed-889a-3e184136af2d",
   "metadata": {},
   "outputs": [],
   "source": [
    "new = string1.replace(\" \",\"\")  # using replace() method to replace string."
   ]
  },
  {
   "cell_type": "code",
   "execution_count": 27,
   "id": "daa86d52-2646-45f8-8b94-585c87f061fa",
   "metadata": {},
   "outputs": [
    {
     "data": {
      "text/plain": [
       "'helloandwelcometoassignmentno1'"
      ]
     },
     "execution_count": 27,
     "metadata": {},
     "output_type": "execute_result"
    }
   ],
   "source": [
    "new  # printing new string."
   ]
  }
 ],
 "metadata": {
  "kernelspec": {
   "display_name": "Python 3 (ipykernel)",
   "language": "python",
   "name": "python3"
  },
  "language_info": {
   "codemirror_mode": {
    "name": "ipython",
    "version": 3
   },
   "file_extension": ".py",
   "mimetype": "text/x-python",
   "name": "python",
   "nbconvert_exporter": "python",
   "pygments_lexer": "ipython3",
   "version": "3.10.8"
  }
 },
 "nbformat": 4,
 "nbformat_minor": 5
}
